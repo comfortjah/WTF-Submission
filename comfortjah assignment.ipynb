{
  "nbformat": 4,
  "nbformat_minor": 0,
  "metadata": {
    "colab": {
      "provenance": [],
      "collapsed_sections": []
    },
    "kernelspec": {
      "name": "python3",
      "display_name": "Python 3"
    },
    "language_info": {
      "name": "python"
    }
  },
  "cells": [
    {
      "cell_type": "code",
      "execution_count": null,
      "metadata": {
        "colab": {
          "base_uri": "https://localhost:8080/"
        },
        "id": "wWfDRnobhjlg",
        "outputId": "c6c2c150-2d11-4587-db4b-b1982c5d45b5"
      },
      "outputs": [
        {
          "output_type": "stream",
          "name": "stdout",
          "text": [
            "10\n",
            "20\n",
            "30\n",
            "40\n",
            "50\n"
          ]
        }
      ],
      "source": [
        "#Print all elements of a list using for loop\n",
        "a = [10, 20, 30, 40, 50]\n",
        "for x in range(len(a)):\n",
        "    print (a[x])"
      ]
    },
    {
      "cell_type": "code",
      "source": [
        "#A company decided to give bonus of 5% to employee if his/her year of service is more than 5 years. Ask user for their salary and year of service and print the net bonus amount.\n",
        "service_year = int(input(\"How many years have you worked with us?\"))\n",
        "salary = float(input(\"what is your current salary?\"))\n",
        "if service_year > 5:\n",
        "\n",
        "   print(\"Your Net bonus is\",0.05*salary)\n"
      ],
      "metadata": {
        "colab": {
          "base_uri": "https://localhost:8080/"
        },
        "id": "i5BtZbEvoGgc",
        "outputId": "c9079670-99cb-406b-91b5-a865a2c037f0"
      },
      "execution_count": null,
      "outputs": [
        {
          "output_type": "stream",
          "name": "stdout",
          "text": [
            "How many years have you worked with us?7\n",
            "what is your current salary?30000\n",
            "Your Net bonus is 1500.0\n"
          ]
        }
      ]
    },
    {
      "cell_type": "code",
      "source": [
        "#Take input of age of 3 people by user and determine oldest and youngest among them.\n",
        "firstperson = eval(input(\"Enter age of firstperson : \"))\n",
        "secondperson = eval(input(\"Enter age of secondperson : \"))\n",
        "thirdperson = eval(input(\"Enter age of thirdperson : \"))\n",
        "\n",
        "if firstperson > secondperson and firstperson > thirdperson:\n",
        "    print(\"First Person is oldest\")\n",
        "elif secondperson > firstperson and secondperson > thirdperson:\n",
        "    print(\"Second Person is oldest\")\n",
        "elif thirdperson> firstperson and thirdperson > secondperson:\n",
        "    print(\"Third Person is oldest\")\n",
        "\n",
        "if firstperson < secondperson and firstperson < thirdperson:\n",
        "    print(\"First Person is youngest\")\n",
        "elif secondperson < firstperson and secondperson < thirdperson:\n",
        "    print(\"Second Person is youngest\")\n",
        "elif thirdperson < firstperson and thirdperson < secondperson:\n",
        "    print(\"Third Person is youngest\")"
      ],
      "metadata": {
        "id": "RdTUqL4hsdkm",
        "colab": {
          "base_uri": "https://localhost:8080/"
        },
        "outputId": "23e09f8f-33ce-4968-9b8f-270b9bb134d1"
      },
      "execution_count": null,
      "outputs": [
        {
          "output_type": "stream",
          "name": "stdout",
          "text": [
            "Enter age of firstperson : 50\n",
            "Enter age of secondperson : 40\n",
            "Enter age of thirdperson : 30\n",
            "First Person is oldest\n",
            "Third Person is youngest\n"
          ]
        }
      ]
    },
    {
      "cell_type": "code",
      "source": [
        "#A school has following rules for grading system:a. Below 25 - F,b. 25 to 45 - E,c. 45 to 50 - D,d. 50 to 60 - C,e. 60 to 80 - B,f. Above 80 - A. Ask user to enter marks and print the corresponding grade."
      ],
      "metadata": {
        "id": "V98gHsxlwtNF"
      },
      "execution_count": null,
      "outputs": []
    },
    {
      "cell_type": "code",
      "source": [
        "score=int(input(\"enter your score: \"))\n",
        "if score < 25:\n",
        "    print(\"F\")\n",
        "elif 25 < score <= 45:\n",
        "    print(\"E\")\n",
        "elif 45 < score <= 50:\n",
        "    print(\"D\")\n",
        "elif 50 < score <= 60:\n",
        "    print(\"C\")\n",
        "elif 60 < score <= 80:\n",
        "    print(\"B\")\n",
        "elif score > 80:\n",
        "    print(\"A\")"
      ],
      "metadata": {
        "colab": {
          "base_uri": "https://localhost:8080/"
        },
        "id": "ahfuICcqmU_x",
        "outputId": "fe1e8821-d014-4fe8-de3a-a2e819bda12c"
      },
      "execution_count": null,
      "outputs": [
        {
          "output_type": "stream",
          "name": "stdout",
          "text": [
            "enter your score: 99\n",
            "A\n"
          ]
        }
      ]
    },
    {
      "cell_type": "code",
      "source": [
        "#Write a Python script to merge two Python dictionaries\n",
        "diction1 = {'a': 100, 'b': 200}\n",
        "diction2 = {'x': 300, 'y': 200}\n",
        "d = diction1.copy()\n",
        "d.update(diction2)\n",
        "print(d)"
      ],
      "metadata": {
        "colab": {
          "base_uri": "https://localhost:8080/"
        },
        "id": "o0O1kzbbnfY7",
        "outputId": "37285e32-4c26-42e7-ac35-ed00ec61edb8"
      },
      "execution_count": null,
      "outputs": [
        {
          "output_type": "stream",
          "name": "stdout",
          "text": [
            "{'a': 100, 'b': 200, 'x': 300, 'y': 200}\n"
          ]
        }
      ]
    },
    {
      "cell_type": "code",
      "source": [
        "#Write a python program to get the largest number from a list\n",
        "def largest_num( list ):  \n",
        "    max = list[ 0 ]  \n",
        "    for a in list:  \n",
        "        if a > max:  \n",
        "            max = a  \n",
        "    return max  \n",
        "print(largest_num([7, 3, 9, 0, -5])) "
      ],
      "metadata": {
        "colab": {
          "base_uri": "https://localhost:8080/"
        },
        "id": "Powh0LLvomc5",
        "outputId": "fcdfbdec-499f-41cc-8e50-a5187ca1886e"
      },
      "execution_count": null,
      "outputs": [
        {
          "output_type": "stream",
          "name": "stdout",
          "text": [
            "9\n"
          ]
        }
      ]
    },
    {
      "cell_type": "code",
      "source": [
        "#Write a python program to remove a key from a dictionary\n",
        "myD = {'a':2,'b':4,'c':6,'d':8}\n",
        "print(myD)\n",
        "if 'a' in myD: \n",
        "    del myD['a']\n",
        "print(myD)"
      ],
      "metadata": {
        "colab": {
          "base_uri": "https://localhost:8080/"
        },
        "id": "Pv7SLyI_pV8t",
        "outputId": "aa5727bf-1f40-4c03-9456-6c668ca4b042"
      },
      "execution_count": null,
      "outputs": [
        {
          "output_type": "stream",
          "name": "stdout",
          "text": [
            "{'a': 2, 'b': 4, 'c': 6, 'd': 8}\n",
            "{'b': 4, 'c': 6, 'd': 8}\n"
          ]
        }
      ]
    }
  ]
}