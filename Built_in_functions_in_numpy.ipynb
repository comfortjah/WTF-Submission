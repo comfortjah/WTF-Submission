{
  "nbformat": 4,
  "nbformat_minor": 0,
  "metadata": {
    "colab": {
      "provenance": []
    },
    "kernelspec": {
      "name": "python3",
      "display_name": "Python 3"
    },
    "language_info": {
      "name": "python"
    }
  },
  "cells": [
    {
      "cell_type": "code",
      "execution_count": 1,
      "metadata": {
        "colab": {
          "base_uri": "https://localhost:8080/"
        },
        "id": "ZSQYhFLiryJD",
        "outputId": "1d122db0-231f-48cc-a6f8-707f5d4d3951"
      },
      "outputs": [
        {
          "output_type": "stream",
          "name": "stdout",
          "text": [
            "My 1D array:\n",
            " [10 20 30]\n",
            "My 2D numpy array:\n",
            " [[10 20 30]\n",
            " [40 50 60]]\n",
            "A sequential array with steps of 3:\n",
            " [ 0  3  6  9 12 15 18]\n",
            "A sequential array with 5 values between 0 and 5:\n",
            " [0.   0.75 1.5  2.25 3.  ]\n",
            " Array: [20 40 60 80]\n",
            " Array with values:\n",
            " [10 20 30]\n",
            "numpy array:\n",
            " [[0. 0.]\n",
            " [0. 0.]\n",
            " [0. 0.]]\n",
            "Type: <class 'numpy.ndarray'>\n",
            "numpy array:\n",
            " [[1. 1. 1.]\n",
            " [1. 1. 1.]]\n",
            "Type: <class 'numpy.ndarray'>\n",
            "Original array [10 20 30]\n",
            "Copied array [10 20 30]\n",
            "Original array [10 20 30]\n",
            "Copied array [10 20 30]\n"
          ]
        }
      ],
      "source": [
        "\n",
        "# Import numpy module\n",
        "import numpy as np\n",
        "\n",
        "# Example 1: Creation of 1D array\n",
        "arr1=np.array([10,20,30])\n",
        "print(\"My 1D array:\\n\",arr1)\n",
        "\n",
        "# Example 2: create a 2D numpy array\n",
        "arr2 = np.array([[10,20,30],[40,50,60]])\n",
        "print(\"My 2D numpy array:\\n\", arr2)\n",
        "\n",
        "# Example 3: Create a sequence of integers\n",
        "# from 0 to 20 with steps of 3\n",
        "arr= np.arange(0, 20, 3)\n",
        "print (\"A sequential array with steps of 3:\\n\", arr)\n",
        "\n",
        "# Example 4: Create a sequence of 5 values in range 0 to 3\n",
        "arr= np.linspace(0, 3, 5)\n",
        "print (\"A sequential array with 5 values between 0 and 5:\\n\", arr)\n",
        "\n",
        "# Example 5: Use asarray() convert array\n",
        "list = [20,40,60,80]\n",
        "array = np.asarray(list)\n",
        "print(\" Array:\", array)\n",
        "\n",
        "# Example 6: Use empty() create array\n",
        "arr = (3, 4)  # 3 rows and 4 columns\n",
        "rr1 = np.empty(arr)\n",
        "print(\" Array with values:\\n\",arr1)\n",
        "\n",
        "# Example 7:Use zero() create array\n",
        "arr = np.zeros((3,2))\n",
        "print(\"numpy array:\\n\", arr)\n",
        "print(\"Type:\", type(arr))\n",
        "\n",
        "# Example 8: Use ones() create array\n",
        "arr = np.ones((2,3))\n",
        "print(\"numpy array:\\n\", arr)\n",
        "print(\"Type:\", type(arr))\n",
        "\n",
        "# Create array from existing array\n",
        "# Using copy()\n",
        "arr=np.array([10,20,30])\n",
        "arr1=arr.copy()\n",
        "print(\"Original array\",arr)\n",
        "print(\"Copied array\",arr1)\n",
        "\n",
        "# Create array using = operator\n",
        "arr=np.array([10,20,30])\n",
        "arr1=arr\n",
        "print(\"Original array\",arr)\n",
        "print(\"Copied array\",arr1)\n"
      ]
    },
    {
      "cell_type": "code",
      "source": [
        "\n",
        "# Create a 2D numpy array\n",
        "arr2 = np.array([[10,20,30],[40,50,60]])\n",
        "print(\"My 2D numpy array:\\n\", arr2)\n",
        "\n",
        "# Output\n",
        "# My 2D numpy array:\n",
        "# [[10 20 30]\n",
        "# [40 50 60]]\n",
        "\n",
        "print(\"Type:\", type(arr2))\n",
        "# Type: <class 'numpy.ndarray'>\n"
      ],
      "metadata": {
        "colab": {
          "base_uri": "https://localhost:8080/"
        },
        "id": "VZjOy7IhtjY-",
        "outputId": "ccf45983-ad4a-46a0-8e64-00b59def83cf"
      },
      "execution_count": 3,
      "outputs": [
        {
          "output_type": "stream",
          "name": "stdout",
          "text": [
            "My 2D numpy array:\n",
            " [[10 20 30]\n",
            " [40 50 60]]\n",
            "Type: <class 'numpy.ndarray'>\n"
          ]
        }
      ]
    },
    {
      "cell_type": "code",
      "source": [
        "\n",
        "# Example 1: Use numpy.append() function\n",
        "arr = np.array([[0,2,4],[6,8,10]]) \n",
        "app_arr = np.append(arr, [13,15,17]) \n",
        "\n",
        "# Example 2: Appending array with axis=0\n",
        "arr = np.array([[0,2,4],[6,8,10]]) \n",
        "app_arr=np.append(arr, [[5,7,9],[13,15,17]],axis = 0)\n",
        "\n",
        "# Example 3: Use Append elements along axis 1\n",
        "arr = np.array([[0,2,4],[6,8,10]]) \n",
        "app_arr=np.append(arr, [[5,7,9],[13,15,17]],axis = 1) \n",
        "\n",
        "# Example 4: Use appending array\n",
        "arr = np.arange(7)  \n",
        "arr1 = np.arange(9, 14)\n",
        "arr2 = np.append(arr, arr1)\n",
        "print(\"Appended arr2 : \", arr2)\n"
      ],
      "metadata": {
        "colab": {
          "base_uri": "https://localhost:8080/"
        },
        "id": "ea6ZRRBzuK7P",
        "outputId": "ebfd4650-b62f-4817-f797-a7e8cabb563b"
      },
      "execution_count": 4,
      "outputs": [
        {
          "output_type": "stream",
          "name": "stdout",
          "text": [
            "Appended arr2 :  [ 0  1  2  3  4  5  6  9 10 11 12 13]\n"
          ]
        }
      ]
    },
    {
      "cell_type": "code",
      "source": [
        "\n",
        "# Below are a quick example on arrangement with numpy\n",
        "\n",
        "# Example 1: Generate array Use arange() with single argument\n",
        "arr = np.arange(9)\n",
        "\n",
        "# Example 2: Get the array Use arange() function  \n",
        "arr = np.arange(1, 12)\n",
        "\n",
        "# Example 3: Get the array Use arange()\n",
        "# with custom step-size\n",
        "arr = np.arange(3, 22, 4)\n",
        "\n",
        "# Example 4: custom step-size\n",
        "arr = np.arange(start=2, stop=22, step=3)\n",
        "\n",
        "# Example 5: Get the array with float values\n",
        "arr = np.arange(1.5, 5.5, 0.5)\n",
        "\n",
        "# Example 6: Get the array with negatives\n",
        "arr = np.arange(-13, -2)\n",
        "\n",
        "# Example 8: providing negative arguments\n",
        "arr = np.arange(-13, -2, 3)\n"
      ],
      "metadata": {
        "id": "mo-jFv6MuqqF"
      },
      "execution_count": 6,
      "outputs": []
    },
    {
      "cell_type": "code",
      "source": [
        "import numpy as np\n",
        "# Use numpy.arange() with single argument\n",
        "# generate the array\n",
        "arr = np.arange(9)\n",
        "print(arr)"
      ],
      "metadata": {
        "colab": {
          "base_uri": "https://localhost:8080/"
        },
        "id": "ah4Xzd4pvBQA",
        "outputId": "154c6951-d3b2-416e-e13a-b0a4a3a11a9d"
      },
      "execution_count": 9,
      "outputs": [
        {
          "output_type": "stream",
          "name": "stdout",
          "text": [
            "[0 1 2 3 4 5 6 7 8]\n"
          ]
        }
      ]
    },
    {
      "cell_type": "code",
      "source": [
        "# Use numpy.arange() function\n",
        "# Get the array  \n",
        "arr = np.arange(1, 12)\n",
        "print(arr)"
      ],
      "metadata": {
        "colab": {
          "base_uri": "https://localhost:8080/"
        },
        "id": "CNk-GOwmvKIG",
        "outputId": "7ea2691b-d660-43a1-cac6-71fd7eb2ca62"
      },
      "execution_count": 10,
      "outputs": [
        {
          "output_type": "stream",
          "name": "stdout",
          "text": [
            "[ 1  2  3  4  5  6  7  8  9 10 11]\n"
          ]
        }
      ]
    },
    {
      "cell_type": "code",
      "source": [
        "# Get the array with negatives values\n",
        "arr = np.arange(-13, -2)\n",
        "print(arr)\n",
        "\n",
        "# providing negative arguments\n",
        "arr = np.arange(-13, -2, 3)\n",
        "print(arr)\n"
      ],
      "metadata": {
        "colab": {
          "base_uri": "https://localhost:8080/"
        },
        "id": "N-T0ELvtvSFV",
        "outputId": "8504ed5e-d929-4de2-8aee-ee886d3dd9dc"
      },
      "execution_count": 11,
      "outputs": [
        {
          "output_type": "stream",
          "name": "stdout",
          "text": [
            "[-13 -12 -11 -10  -9  -8  -7  -6  -5  -4  -3]\n",
            "[-13 -10  -7  -4]\n"
          ]
        }
      ]
    },
    {
      "cell_type": "code",
      "source": [
        "# Example 1: Use numpy.absolute() to get the absolute value\n",
        "arr = np.array([-46])\n",
        "arr2 = np.absolute(arr)\n",
        "\n",
        "# Example 2: get the absolute values of multiple elements of 1-d array\n",
        "arr = [4, -9, 14, -23, 32, -56]\n",
        "arr2 = np.absolute(arr)\n",
        "\n",
        "# Example 3: Use numpy.absolute() function to get \n",
        "# the absolute values of floating point\n",
        "arr = [-15.7, 8.6, -7.1, 8.7, -19.2, 43.8]\n",
        "arr2 = np.absolute(arr)\n",
        "\n",
        "# Example 4: Use numpy.absolute() get the absolute values \n",
        "# of 2-D array elements\n",
        "arr = np.array([[-12, 8, -23, 32], [49, -74, -92, 106]])\n",
        "arr2 = np.absolute(arr)\n",
        "\n",
        "# Example 5: Use numpy.absolute() function with complex numbers\n",
        "arr = [4+7j, -5-9j, 16+13j, -8+17j]\n",
        "arr2 = np.absolute(arr)"
      ],
      "metadata": {
        "id": "mg5Ygewcv0az"
      },
      "execution_count": 12,
      "outputs": []
    },
    {
      "cell_type": "code",
      "source": [
        "import numpy as np\n",
        "arr = np.array([-46])\n",
        "\n",
        "# Use numpy.absolute() to get the absolute value\n",
        "arr2 = np.absolute(arr)\n",
        "print(arr2)"
      ],
      "metadata": {
        "colab": {
          "base_uri": "https://localhost:8080/"
        },
        "id": "FKzybtBbwG9_",
        "outputId": "c96be11a-d3d1-4129-b839-c24f7b4575b5"
      },
      "execution_count": 13,
      "outputs": [
        {
          "output_type": "stream",
          "name": "stdout",
          "text": [
            "[46]\n"
          ]
        }
      ]
    },
    {
      "cell_type": "code",
      "source": [
        "import numpy as np\n",
        "\n",
        "# Create an 1D input array\n",
        "arr = [4, -9, 14, -23, 32, -56]\n",
        "\n",
        "# get the absolute values of multiple elements of 1-d array\n",
        "arr2 = np.absolute(arr)\n",
        "print(arr2)"
      ],
      "metadata": {
        "colab": {
          "base_uri": "https://localhost:8080/"
        },
        "id": "YbKzxtquwNTk",
        "outputId": "cd8bbfda-74a6-411a-d593-94b6a061bf4e"
      },
      "execution_count": 14,
      "outputs": [
        {
          "output_type": "stream",
          "name": "stdout",
          "text": [
            "[ 4  9 14 23 32 56]\n"
          ]
        }
      ]
    },
    {
      "cell_type": "code",
      "source": [
        "import numpy as np\n",
        "\n",
        "# creating an 1D input array\n",
        "arr = [-15.7, 8.6, -7.1, 8.7, -19.2, 43.8]\n",
        "\n",
        "# Use numpy.absolute() function to get \n",
        "# the absolute values of floating point\n",
        "arr2 = np.absolute(arr)\n",
        "print(arr2)"
      ],
      "metadata": {
        "colab": {
          "base_uri": "https://localhost:8080/"
        },
        "id": "WxBfyjEgwZp-",
        "outputId": "722fca4e-435e-43c7-d43a-a4a54d142e32"
      },
      "execution_count": 15,
      "outputs": [
        {
          "output_type": "stream",
          "name": "stdout",
          "text": [
            "[15.7  8.6  7.1  8.7 19.2 43.8]\n"
          ]
        }
      ]
    },
    {
      "cell_type": "code",
      "source": [
        "import numpy as np\n",
        "\n",
        "# creating an 2D input array\n",
        "arr = np.array([[-12, 8, -23, 32], [49, -74, -92, 106]])\n",
        "\n",
        "# Use numpy.absolute() get the absolute values \n",
        "# of 2-D array elements\n",
        "arr2 = np.absolute(arr)\n",
        "print(arr2)\n"
      ],
      "metadata": {
        "colab": {
          "base_uri": "https://localhost:8080/"
        },
        "id": "MGjCmhIbwgiH",
        "outputId": "7cd0dcb0-1546-4f02-e577-d85ccdf6cc92"
      },
      "execution_count": 16,
      "outputs": [
        {
          "output_type": "stream",
          "name": "stdout",
          "text": [
            "[[ 12   8  23  32]\n",
            " [ 49  74  92 106]]\n"
          ]
        }
      ]
    },
    {
      "cell_type": "code",
      "source": [
        "\n",
        "# Below are a quick example\n",
        "\n",
        "# Example 1: use numpy.split() function\n",
        "arr2 = np.split(arr,4) \n",
        "\n",
        "# Example 2: use numpy.split() function to split 1-D numpy array\n",
        "arr2 = np.split(arr,[2,3])  \n",
        "\n",
        "# Example 3: Use split 2-D numpy array use numpy.split() function\n",
        "arr = np.array([[15,28,57,65],[25,37,55,88]])\n",
        "arr2 = np.split(arr, 2, axis=0)  \n",
        "\n",
        "# Example 4: Use split array along axis=1\n",
        "arr2 = np.split(arr, 2, axis=1)  \n",
        "\n",
        "# Example 5: Use numpy.split() function to slicing\n",
        "arr2 = np.split(arr, (2,3), axis=1)\n"
      ],
      "metadata": {
        "id": "qlc277ZmxHT4"
      },
      "execution_count": null,
      "outputs": []
    },
    {
      "cell_type": "code",
      "source": [
        "import numpy as np\n",
        " \n",
        "# creating an input array\n",
        "arr = np.array([5,7,9,11,13,19,23,27])\n",
        "\n",
        "# use numpy.split() function\n",
        "arr2 = np.split(arr,4)  \n",
        "print(arr2)"
      ],
      "metadata": {
        "colab": {
          "base_uri": "https://localhost:8080/"
        },
        "id": "PJ-4_3MPxMb0",
        "outputId": "cb4695b3-a9b5-40b2-905c-62ba252de4a7"
      },
      "execution_count": 17,
      "outputs": [
        {
          "output_type": "stream",
          "name": "stdout",
          "text": [
            "[array([5, 7]), array([ 9, 11]), array([13, 19]), array([23, 27])]\n"
          ]
        }
      ]
    },
    {
      "cell_type": "code",
      "source": [
        "# use numpy.split() function to split 1-D numpy array\n",
        "arr2 = np.split(arr,[2,3])  \n",
        "print(arr2)\n"
      ],
      "metadata": {
        "colab": {
          "base_uri": "https://localhost:8080/"
        },
        "id": "ddPr2x5FxS5R",
        "outputId": "aa249dc6-4eaf-47c4-d94f-9a3e7252359f"
      },
      "execution_count": 18,
      "outputs": [
        {
          "output_type": "stream",
          "name": "stdout",
          "text": [
            "[array([5, 7]), array([9]), array([11, 13, 19, 23, 27])]\n"
          ]
        }
      ]
    },
    {
      "cell_type": "code",
      "source": [
        "import numpy as np\n",
        " \n",
        "# creating an 2D input array\n",
        "arr = np.array([[15,28,57,65],[25,37,55,88]])\n",
        "\n",
        "# Use split array along axis = 0\n",
        "arr2 = np.split(arr, 2, axis=0)  \n",
        "print(arr2)\n"
      ],
      "metadata": {
        "colab": {
          "base_uri": "https://localhost:8080/"
        },
        "id": "o-uTZ1LcxXaK",
        "outputId": "134296c3-2908-4c95-9c5f-3e753ffc29da"
      },
      "execution_count": 19,
      "outputs": [
        {
          "output_type": "stream",
          "name": "stdout",
          "text": [
            "[array([[15, 28, 57, 65]]), array([[25, 37, 55, 88]])]\n"
          ]
        }
      ]
    },
    {
      "cell_type": "code",
      "source": [
        "# Use split array along axis=1\n",
        "arr2 = np.split(arr, 2, axis=1)  \n",
        "print(arr2)"
      ],
      "metadata": {
        "colab": {
          "base_uri": "https://localhost:8080/"
        },
        "id": "uoNWldFIxZOP",
        "outputId": "8ca07695-5a33-4ccf-910b-b5e632a2b562"
      },
      "execution_count": 20,
      "outputs": [
        {
          "output_type": "stream",
          "name": "stdout",
          "text": [
            "[array([[15, 28],\n",
            "       [25, 37]]), array([[57, 65],\n",
            "       [55, 88]])]\n"
          ]
        }
      ]
    },
    {
      "cell_type": "code",
      "source": [
        "# Example 1: Use numpy.mutiply() function and \n",
        "# get the matrix multiplication\n",
        "arr2 = np.multiply(arr, arr1)\n",
        "\n",
        "# Example 2: Get the certain rows multiplication\n",
        "arr2 = np.multiply(arr[ 0,: 2], arr1[ 1,: 2])\n",
        "\n",
        "# Example 3: Get dot product of arrays\n",
        "arr = np.array([[1, 3 ],\n",
        "                [4, 1 ]])\n",
        "arr1 = 2\n",
        "arr2 = np.dot(arr,arr1)\n",
        "\n",
        "# Example 4: Use numpy.dot() function\n",
        "# Get the product of two arrays\n",
        "arr2 = np.dot(arr,arr1)\n",
        "\n",
        "# Example 5: # Use numpy.matmul() function\n",
        "# Get the product \n",
        "arr2 = np.matmul(arr,arr1)"
      ],
      "metadata": {
        "id": "OQc4PgBzxmwn"
      },
      "execution_count": null,
      "outputs": []
    },
    {
      "cell_type": "code",
      "source": [
        "import numpy as np\n",
        "# Create a numpy two dimensional arrays\n",
        "arr = np.array([[2, 4, 3, 1],[2, 3, 6, 1]])\n",
        "arr1 = np.array([[2, 1, 5, 2],[4, 8, 3, 2]])\n",
        "                 \n",
        "# Use numpy.mutiply() function and \n",
        "# get the matrix multiplication\n",
        "arr2 = np.multiply(arr, arr1)\n",
        "print(arr2)"
      ],
      "metadata": {
        "colab": {
          "base_uri": "https://localhost:8080/"
        },
        "id": "9Flt9T9FxnIA",
        "outputId": "5fd7f794-56a3-4f78-e420-e442202bf31f"
      },
      "execution_count": 21,
      "outputs": [
        {
          "output_type": "stream",
          "name": "stdout",
          "text": [
            "[[ 4  4 15  2]\n",
            " [ 8 24 18  2]]\n"
          ]
        }
      ]
    },
    {
      "cell_type": "code",
      "source": [
        "# Get the certain rows multiplication\n",
        "arr2 = np.multiply(arr[ 0,: 2], arr1[ 1,: 2])\n",
        "print(arr2)"
      ],
      "metadata": {
        "colab": {
          "base_uri": "https://localhost:8080/"
        },
        "id": "J2Pt9R7lxngu",
        "outputId": "e2ad0a39-0f22-4401-fbe1-10307ff0a788"
      },
      "execution_count": 22,
      "outputs": [
        {
          "output_type": "stream",
          "name": "stdout",
          "text": [
            "[ 8 32]\n"
          ]
        }
      ]
    },
    {
      "cell_type": "code",
      "source": [
        "arr3 = np.multiply(arr[ 1,: 3], arr1[ 0,: 3])\n",
        "print(arr3)"
      ],
      "metadata": {
        "colab": {
          "base_uri": "https://localhost:8080/"
        },
        "id": "8QtCU_vQxn0j",
        "outputId": "cf01481b-0750-4dfe-e8b6-ee70effc8130"
      },
      "execution_count": 23,
      "outputs": [
        {
          "output_type": "stream",
          "name": "stdout",
          "text": [
            "[ 4  3 30]\n"
          ]
        }
      ]
    },
    {
      "cell_type": "code",
      "source": [
        "# Get dot product of arrays\n",
        "arr = np.array([[1, 3 ],\n",
        "                [4, 1 ]])\n",
        "arr1 = 2\n",
        "arr2 = np.dot(arr,arr1)\n",
        "print(arr2)"
      ],
      "metadata": {
        "colab": {
          "base_uri": "https://localhost:8080/"
        },
        "id": "ZuodTnuayLoh",
        "outputId": "5e0fd169-bf28-4577-d5f2-2d35a1408168"
      },
      "execution_count": 24,
      "outputs": [
        {
          "output_type": "stream",
          "name": "stdout",
          "text": [
            "[[2 6]\n",
            " [8 2]]\n"
          ]
        }
      ]
    }
  ]
}