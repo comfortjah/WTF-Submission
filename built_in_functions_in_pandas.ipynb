{
  "nbformat": 4,
  "nbformat_minor": 0,
  "metadata": {
    "colab": {
      "provenance": [],
      "collapsed_sections": []
    },
    "kernelspec": {
      "name": "python3",
      "display_name": "Python 3"
    },
    "language_info": {
      "name": "python"
    }
  },
  "cells": [
    {
      "cell_type": "code",
      "source": [
        "#Create a simple Pandas DataFrame\n",
        "import pandas as pd\n",
        "\n",
        "data = {\n",
        "  \"calories\": [420, 380, 390],\n",
        "  \"duration\": [50, 40, 45]\n",
        "}\n",
        "\n",
        "#load data into a DataFrame object:\n",
        "df = pd.DataFrame(data)\n",
        "\n",
        "print(df) "
      ],
      "metadata": {
        "colab": {
          "base_uri": "https://localhost:8080/"
        },
        "id": "IsI35mk3pxs-",
        "outputId": "ebc28605-c2d4-45ef-927e-80ce6901e5f5"
      },
      "execution_count": null,
      "outputs": [
        {
          "output_type": "stream",
          "name": "stdout",
          "text": [
            "   calories  duration\n",
            "0       420        50\n",
            "1       380        40\n",
            "2       390        45\n"
          ]
        }
      ]
    },
    {
      "cell_type": "code",
      "source": [
        "#refer to the row index:\n",
        "print(df.loc[0])"
      ],
      "metadata": {
        "colab": {
          "base_uri": "https://localhost:8080/"
        },
        "id": "HPQI84pMp_Gw",
        "outputId": "19238414-fc39-42ae-daeb-28ee897fca31"
      },
      "execution_count": null,
      "outputs": [
        {
          "output_type": "stream",
          "name": "stdout",
          "text": [
            "calories    420\n",
            "duration     50\n",
            "Name: 0, dtype: int64\n"
          ]
        }
      ]
    },
    {
      "cell_type": "code",
      "source": [
        "#use a list of indexes:\n",
        "print(df.loc[[0, 1]])"
      ],
      "metadata": {
        "colab": {
          "base_uri": "https://localhost:8080/"
        },
        "id": "64ZGmiDesFtK",
        "outputId": "7e0c9efa-4939-4dce-c8e4-acccaa078db3"
      },
      "execution_count": null,
      "outputs": [
        {
          "output_type": "stream",
          "name": "stdout",
          "text": [
            "   calories  duration\n",
            "0       420        50\n",
            "1       380        40\n"
          ]
        }
      ]
    },
    {
      "cell_type": "code",
      "source": [
        "#Named Indexes\n",
        "import pandas as pd\n",
        "\n",
        "data = {\n",
        "  \"calories\": [420, 380, 390],\n",
        "  \"duration\": [50, 40, 45]\n",
        "}\n",
        "\n",
        "df = pd.DataFrame(data, index = [\"day1\", \"day2\", \"day3\"])\n",
        "\n",
        "print(df) "
      ],
      "metadata": {
        "colab": {
          "base_uri": "https://localhost:8080/"
        },
        "id": "5AIKiaSCsajn",
        "outputId": "16ceadcf-1f58-43e0-bb08-8aac552761b4"
      },
      "execution_count": null,
      "outputs": [
        {
          "output_type": "stream",
          "name": "stdout",
          "text": [
            "      calories  duration\n",
            "day1       420        50\n",
            "day2       380        40\n",
            "day3       390        45\n"
          ]
        }
      ]
    },
    {
      "cell_type": "code",
      "source": [
        "#Locate Named Indexes\n",
        "print(df.loc[\"day2\"])"
      ],
      "metadata": {
        "colab": {
          "base_uri": "https://localhost:8080/"
        },
        "id": "z3gRl831ssnh",
        "outputId": "acf59b46-9d41-4c01-f033-10903ce5ce3e"
      },
      "execution_count": null,
      "outputs": [
        {
          "output_type": "stream",
          "name": "stdout",
          "text": [
            "calories    380\n",
            "duration     40\n",
            "Name: day2, dtype: int64\n"
          ]
        }
      ]
    },
    {
      "cell_type": "code",
      "source": [
        "import pandas as pd\n",
        "\n",
        "data = {\n",
        "  \"calories\": [420, 380, 390],\n",
        "  \"duration\": [50, 40, 45]\n",
        "}\n",
        "\n",
        "myvar = pd.DataFrame(data)\n",
        "\n",
        "print(myvar)"
      ],
      "metadata": {
        "colab": {
          "base_uri": "https://localhost:8080/"
        },
        "id": "3CFRJluHgTYJ",
        "outputId": "b9cd6018-8d54-46d2-9b22-340cef3e88ce"
      },
      "execution_count": 2,
      "outputs": [
        {
          "output_type": "stream",
          "name": "stdout",
          "text": [
            "   calories  duration\n",
            "0       420        50\n",
            "1       380        40\n",
            "2       390        45\n"
          ]
        }
      ]
    },
    {
      "cell_type": "code",
      "source": [
        "import pandas as pd\n",
        "\n",
        "calories = {\"day1\": 420, \"day2\": 380, \"day3\": 390}\n",
        "\n",
        "myvar = pd.Series(calories, index = [\"day1\", \"day2\"])\n",
        "\n",
        "print(myvar)"
      ],
      "metadata": {
        "colab": {
          "base_uri": "https://localhost:8080/"
        },
        "id": "k-0zXezdggRc",
        "outputId": "cad7bc5a-bb67-4f5e-bdf2-7e68621794f9"
      },
      "execution_count": 3,
      "outputs": [
        {
          "output_type": "stream",
          "name": "stdout",
          "text": [
            "day1    420\n",
            "day2    380\n",
            "dtype: int64\n"
          ]
        }
      ]
    },
    {
      "cell_type": "code",
      "source": [
        "Age={\n",
        "    \"Pre-teen\":[5,6,7,8,9,10],\n",
        "\"Teenagers\":[11,12,13,14,15,16],\n",
        "\"Adult\":[18,19,20,21,22,23]}\n",
        "df=pd.DataFrame(Age, index=[\"A\",\"B\",\"C\",\"D\",\"E\",\"F\"])\n",
        "print(df)"
      ],
      "metadata": {
        "colab": {
          "base_uri": "https://localhost:8080/"
        },
        "id": "rVnG0-W7hmVu",
        "outputId": "b6420908-b4ff-4756-f8c9-3aa42227f42a"
      },
      "execution_count": 6,
      "outputs": [
        {
          "output_type": "stream",
          "name": "stdout",
          "text": [
            "   Pre-teen  Teenager  Adult\n",
            "A         5        11     18\n",
            "B         6        12     19\n",
            "C         7        13     20\n",
            "D         8        14     21\n",
            "E         9        15     22\n",
            "F        10        16     23\n"
          ]
        }
      ]
    },
    {
      "cell_type": "code",
      "source": [
        "\n",
        "import pandas as pd\n",
        "technologies = {\n",
        "    'Courses':[\"Spark\",\"PySpark\",\"Hadoop\",\"Python\",\"PySpark\",\"Spark\"],\n",
        "    'Fee' :[20000,25000,26000,22000,24000,35000],\n",
        "    'Duration':['30day','40days','35days','40days','60days','60days'],\n",
        "    'Discount':[1000,2300,1200,2500,2000,2000]\n",
        "              }\n",
        "df = pd.DataFrame(technologies)\n",
        "print(df)\n"
      ],
      "metadata": {
        "colab": {
          "base_uri": "https://localhost:8080/"
        },
        "id": "Iv2iAswalR5t",
        "outputId": "b489727d-aada-4a64-aa82-556d67ceb6b8"
      },
      "execution_count": 7,
      "outputs": [
        {
          "output_type": "stream",
          "name": "stdout",
          "text": [
            "   Courses    Fee Duration  Discount\n",
            "0    Spark  20000    30day      1000\n",
            "1  PySpark  25000   40days      2300\n",
            "2   Hadoop  26000   35days      1200\n",
            "3   Python  22000   40days      2500\n",
            "4  PySpark  24000   60days      2000\n",
            "5    Spark  35000   60days      2000\n"
          ]
        }
      ]
    },
    {
      "cell_type": "code",
      "source": [
        "# Using Aggregate Function on DataFrame\n",
        "result = df[['Fee','Discount']].aggregate('sum')\n",
        "print(result)\n"
      ],
      "metadata": {
        "colab": {
          "base_uri": "https://localhost:8080/"
        },
        "id": "-FmHzSaFmL3p",
        "outputId": "81d5982f-322c-4a7f-faa3-977d0d8c5deb"
      },
      "execution_count": 8,
      "outputs": [
        {
          "output_type": "stream",
          "name": "stdout",
          "text": [
            "Fee         152000\n",
            "Discount     11000\n",
            "dtype: int64\n"
          ]
        }
      ]
    },
    {
      "cell_type": "code",
      "source": [
        "# Use DataFrame.group() Function\n",
        "result = df.groupby('Courses')['Fee','Discount'].aggregate('sum')\n",
        "print(result)\n"
      ],
      "metadata": {
        "colab": {
          "base_uri": "https://localhost:8080/"
        },
        "id": "8TBKzyKbmS_E",
        "outputId": "5e41f47b-92b8-4bca-966a-09dae27a37b0"
      },
      "execution_count": 9,
      "outputs": [
        {
          "output_type": "stream",
          "name": "stdout",
          "text": [
            "           Fee  Discount\n",
            "Courses                 \n",
            "Hadoop   26000      1200\n",
            "PySpark  49000      4300\n",
            "Python   22000      2500\n",
            "Spark    55000      3000\n"
          ]
        },
        {
          "output_type": "stream",
          "name": "stderr",
          "text": [
            "/usr/local/lib/python3.7/dist-packages/ipykernel_launcher.py:2: FutureWarning: Indexing with multiple keys (implicitly converted to a tuple of keys) will be deprecated, use a list instead.\n",
            "  \n"
          ]
        }
      ]
    },
    {
      "cell_type": "code",
      "source": [
        "# Using groupby() and aggreaget()\n",
        "result = df.groupby('Courses').aggregate('sum')\n",
        "print(result)\n"
      ],
      "metadata": {
        "colab": {
          "base_uri": "https://localhost:8080/"
        },
        "id": "bTK_tuNqmZ-g",
        "outputId": "7eac5cfd-a50a-4728-a41a-3f4c5bfb9bee"
      },
      "execution_count": 10,
      "outputs": [
        {
          "output_type": "stream",
          "name": "stdout",
          "text": [
            "           Fee  Discount\n",
            "Courses                 \n",
            "Hadoop   26000      1200\n",
            "PySpark  49000      4300\n",
            "Python   22000      2500\n",
            "Spark    55000      3000\n"
          ]
        }
      ]
    },
    {
      "cell_type": "code",
      "source": [
        "# Directly using sum() function\n",
        "result = df.groupby('Courses').sum()\n",
        "print(result)"
      ],
      "metadata": {
        "colab": {
          "base_uri": "https://localhost:8080/"
        },
        "id": "dRgvObPTmfjS",
        "outputId": "50dfd687-7994-4a34-80a9-c88e3537cd0d"
      },
      "execution_count": 11,
      "outputs": [
        {
          "output_type": "stream",
          "name": "stdout",
          "text": [
            "           Fee  Discount\n",
            "Courses                 \n",
            "Hadoop   26000      1200\n",
            "PySpark  49000      4300\n",
            "Python   22000      2500\n",
            "Spark    55000      3000\n"
          ]
        }
      ]
    },
    {
      "cell_type": "code",
      "source": [
        "# Groupby multiple columns & multiple aggregations\n",
        "result = df.groupby('Courses').aggregate({'Duration':'count','Fee':['min','max']})\n",
        "print(result)"
      ],
      "metadata": {
        "colab": {
          "base_uri": "https://localhost:8080/"
        },
        "id": "lNUiA4ZxmqgB",
        "outputId": "d11d0ed9-d5b7-4f31-c740-ac900628b73b"
      },
      "execution_count": 12,
      "outputs": [
        {
          "output_type": "stream",
          "name": "stdout",
          "text": [
            "        Duration    Fee       \n",
            "           count    min    max\n",
            "Courses                       \n",
            "Hadoop         1  26000  26000\n",
            "PySpark        2  24000  25000\n",
            "Python         1  22000  22000\n",
            "Spark          2  20000  35000\n"
          ]
        }
      ]
    },
    {
      "cell_type": "code",
      "source": [
        "# Dict object\n",
        "courses = {'Courses':['Spark','PySpark','Java','PHP'],\n",
        "           'Fee':[20000,20000,15000,10000],\n",
        "           'Duration':['35days','35days','40days','30days']}\n",
        "\n",
        "# Create DataFrame from dict\n",
        "df = pd.DataFrame.from_dict(courses)\n",
        "print(df)"
      ],
      "metadata": {
        "colab": {
          "base_uri": "https://localhost:8080/"
        },
        "id": "Dbc-acW9mxtN",
        "outputId": "d6017e83-33d2-40a2-975a-8e53da3675fb"
      },
      "execution_count": 13,
      "outputs": [
        {
          "output_type": "stream",
          "name": "stdout",
          "text": [
            "   Courses    Fee Duration\n",
            "0    Spark  20000   35days\n",
            "1  PySpark  20000   35days\n",
            "2     Java  15000   40days\n",
            "3      PHP  10000   30days\n"
          ]
        }
      ]
    },
    {
      "cell_type": "code",
      "source": [
        "\n",
        "import pandas as pd\n",
        "# Create pandas Series\n",
        "courses = pd.Series([\"Spark\",\"PySpark\",\"Hadoop\"])\n",
        "fees = pd.Series([22000,25000,23000])\n",
        "discount  = pd.Series([1000,2300,1000])\n",
        "\n",
        "# Combine two series.\n",
        "df=pd.concat([courses,fees],axis=1)\n",
        "\n",
        "# It also supports to combine multiple series.\n",
        "df=pd.concat([courses,fees,discount],axis=1)\n",
        "print(df)\n"
      ],
      "metadata": {
        "colab": {
          "base_uri": "https://localhost:8080/"
        },
        "id": "1pl21EvtqEIh",
        "outputId": "84fbf1bf-ee9f-4d0a-a930-e064daaad7f1"
      },
      "execution_count": 21,
      "outputs": [
        {
          "output_type": "stream",
          "name": "stdout",
          "text": [
            "         0      1     2\n",
            "0    Spark  22000  1000\n",
            "1  PySpark  25000  2300\n",
            "2   Hadoop  23000  1000\n"
          ]
        }
      ]
    },
    {
      "cell_type": "code",
      "source": [
        "# Create Series by assigning names\n",
        "courses = pd.Series([\"Spark\",\"PySpark\",\"Hadoop\"], name='courses')\n",
        "fees = pd.Series([22000,25000,23000], name='fees')\n",
        "discount  = pd.Series([1000,2300,1000],name='discount')\n",
        "\n",
        "df=pd.concat([courses,fees,discount],axis=1)\n",
        "print(df)"
      ],
      "metadata": {
        "colab": {
          "base_uri": "https://localhost:8080/"
        },
        "id": "iCFpHvnqqq5G",
        "outputId": "307346d6-07b1-463f-bd98-59543cfecf49"
      },
      "execution_count": 22,
      "outputs": [
        {
          "output_type": "stream",
          "name": "stdout",
          "text": [
            "   courses   fees  discount\n",
            "0    Spark  22000      1000\n",
            "1  PySpark  25000      2300\n",
            "2   Hadoop  23000      1000\n"
          ]
        }
      ]
    },
    {
      "cell_type": "code",
      "source": [
        "# Assign Index to Series\n",
        "index_labels=['r1','r2','r3']\n",
        "courses.index = index_labels\n",
        "fees.index = index_labels\n",
        "discount.index = index_labels\n",
        "\n",
        "# Concat Series by Changing Names\n",
        "df=pd.concat({'Courses': courses,\n",
        "              'Course_Fee': fees,\n",
        "              'Course_Discount': discount},axis=1)\n",
        "print(df)"
      ],
      "metadata": {
        "colab": {
          "base_uri": "https://localhost:8080/"
        },
        "id": "pQTy_3osq_ct",
        "outputId": "b257bca8-f8a2-4b97-9771-1cf9b799b5a5"
      },
      "execution_count": 23,
      "outputs": [
        {
          "output_type": "stream",
          "name": "stdout",
          "text": [
            "    Courses  Course_Fee  Course_Discount\n",
            "r1    Spark       22000             1000\n",
            "r2  PySpark       25000             2300\n",
            "r3   Hadoop       23000             1000\n"
          ]
        }
      ]
    },
    {
      "cell_type": "code",
      "source": [
        "#change the index to a column & create new index\n",
        "df = df.reset_index()\n",
        "print(df)"
      ],
      "metadata": {
        "colab": {
          "base_uri": "https://localhost:8080/"
        },
        "id": "9MQmFwHgq_v0",
        "outputId": "d82c51b8-506f-46a0-94bf-0dc58b78a84d"
      },
      "execution_count": 24,
      "outputs": [
        {
          "output_type": "stream",
          "name": "stdout",
          "text": [
            "  index  Courses  Course_Fee  Course_Discount\n",
            "0    r1    Spark       22000             1000\n",
            "1    r2  PySpark       25000             2300\n",
            "2    r3   Hadoop       23000             1000\n"
          ]
        }
      ]
    },
    {
      "cell_type": "code",
      "source": [
        "# Create Series by assigning names\n",
        "courses = pd.Series([\"Spark\",\"PySpark\",\"Hadoop\"], name='courses')\n",
        "fees = pd.Series([22000,25000,23000], name='fees')\n",
        "\n",
        "# using pandas series merge()\n",
        "df = pd.merge(courses, fees, right_index = True,\n",
        "               left_index = True)\n",
        "print(df)"
      ],
      "metadata": {
        "colab": {
          "base_uri": "https://localhost:8080/"
        },
        "id": "z_SZYe2orAAo",
        "outputId": "ef0b2851-f131-4011-8c47-e3818bbc62cc"
      },
      "execution_count": 26,
      "outputs": [
        {
          "output_type": "stream",
          "name": "stdout",
          "text": [
            "   courses   fees\n",
            "0    Spark  22000\n",
            "1  PySpark  25000\n",
            "2   Hadoop  23000\n"
          ]
        }
      ]
    }
  ]
}